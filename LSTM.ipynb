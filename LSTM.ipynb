{
 "cells": [
  {
   "cell_type": "code",
   "execution_count": 1,
   "metadata": {
    "colab": {},
    "colab_type": "code",
    "id": "NAeqFy8gXWVF"
   },
   "outputs": [],
   "source": [
    "import pandas as pd\n",
    "df = pd.read_csv('totalwithmaininfo.csv',sep=',')"
   ]
  },
  {
   "cell_type": "code",
   "execution_count": 2,
   "metadata": {
    "colab": {},
    "colab_type": "code",
    "id": "8uWO0GegJGfW"
   },
   "outputs": [],
   "source": [
    "df=df.drop(df.columns[0], axis=1)"
   ]
  },
  {
   "cell_type": "code",
   "execution_count": 3,
   "metadata": {
    "colab": {},
    "colab_type": "code",
    "id": "xCcrX2clXBFZ"
   },
   "outputs": [],
   "source": [
    "train_percentage = 17/22\n",
    "train_index = int(len(df)*train_percentage)\n",
    "test_index = len(df)-train_index"
   ]
  },
  {
   "cell_type": "code",
   "execution_count": 4,
   "metadata": {
    "colab": {},
    "colab_type": "code",
    "id": "XFxGMN1uXyd_"
   },
   "outputs": [],
   "source": [
    "df_train = df[:train_index]\n",
    "df_test = df[-test_index:]"
   ]
  },
  {
   "cell_type": "code",
   "execution_count": 5,
   "metadata": {
    "colab": {},
    "colab_type": "code",
    "id": "NSPtv0PYYF7v"
   },
   "outputs": [],
   "source": [
    "x_test = df_test.drop([\"Y\"],axis=1)\n",
    "y_test = df_test[\"Y\"]"
   ]
  },
  {
   "cell_type": "code",
   "execution_count": 6,
   "metadata": {
    "colab": {},
    "colab_type": "code",
    "id": "pbkVn0MvYkzK"
   },
   "outputs": [],
   "source": [
    "x_train = df_train.drop('Y',axis=1)\n",
    "y_train = df_train['Y']"
   ]
  },
  {
   "cell_type": "code",
   "execution_count": 7,
   "metadata": {
    "colab": {
     "base_uri": "https://localhost:8080/",
     "height": 34
    },
    "colab_type": "code",
    "id": "KrpHxM6gDeYB",
    "outputId": "717a1e57-eb36-4a46-e3b1-61b8b25e83d2"
   },
   "outputs": [
    {
     "data": {
      "text/plain": [
       "(2400, 8)"
      ]
     },
     "execution_count": 7,
     "metadata": {},
     "output_type": "execute_result"
    }
   ],
   "source": [
    "x_test.shape"
   ]
  },
  {
   "cell_type": "code",
   "execution_count": 8,
   "metadata": {
    "colab": {
     "base_uri": "https://localhost:8080/",
     "height": 34
    },
    "colab_type": "code",
    "id": "k6cJosvmYwha",
    "outputId": "3b1d42b2-9156-4cb4-ece6-70baaaeeeba6"
   },
   "outputs": [
    {
     "data": {
      "text/plain": [
       "(8160, 8)"
      ]
     },
     "execution_count": 8,
     "metadata": {},
     "output_type": "execute_result"
    }
   ],
   "source": [
    "x_train.shape"
   ]
  },
  {
   "cell_type": "code",
   "execution_count": 9,
   "metadata": {
    "colab": {},
    "colab_type": "code",
    "id": "tEmlPojUYrKU"
   },
   "outputs": [],
   "source": [
    "import numpy as np\n",
    "x_shaped_train  = np.array(x_train).reshape(1632,5,8)\n",
    "x_shaped_test  = np.array(x_test).reshape(480,5,8)"
   ]
  },
  {
   "cell_type": "code",
   "execution_count": 10,
   "metadata": {
    "colab": {
     "base_uri": "https://localhost:8080/",
     "height": 51
    },
    "colab_type": "code",
    "id": "VtcjdfayZujE",
    "outputId": "f5ae7434-f5e7-4063-f4b0-2c4ebe14ff2b"
   },
   "outputs": [
    {
     "name": "stdout",
     "output_type": "stream",
     "text": [
      "1632\n",
      "480\n"
     ]
    }
   ],
   "source": [
    "y_train = np.array(y_train)\n",
    "y_test = np.array(y_test)\n",
    "\n",
    "y_shaped_train  = []\n",
    "for i in range(0, len(y_train), 5):\n",
    "  y_shaped_train.append([y_train[i]])\n",
    "print(len(y_shaped_train))\n",
    "\n",
    "y_shaped_test  = []\n",
    "for i in range(0, len(y_test), 5):\n",
    "  y_shaped_test.append([y_test[i]])\n",
    "print(len(y_shaped_test))"
   ]
  },
  {
   "cell_type": "code",
   "execution_count": 11,
   "metadata": {
    "colab": {
     "base_uri": "https://localhost:8080/",
     "height": 34
    },
    "colab_type": "code",
    "id": "hLuf7dvXbh8L",
    "outputId": "b3240806-f8d6-4b06-f453-66f9cae7dbb9"
   },
   "outputs": [
    {
     "data": {
      "text/plain": [
       "(1632, 5, 8)"
      ]
     },
     "execution_count": 11,
     "metadata": {},
     "output_type": "execute_result"
    }
   ],
   "source": [
    "x_shaped_train.shape"
   ]
  },
  {
   "cell_type": "code",
   "execution_count": 12,
   "metadata": {
    "colab": {
     "base_uri": "https://localhost:8080/",
     "height": 34
    },
    "colab_type": "code",
    "id": "i6N3HkPibkOb",
    "outputId": "7ebdae92-df54-4b30-b295-b33c261cb15a"
   },
   "outputs": [
    {
     "data": {
      "text/plain": [
       "(480, 5, 8)"
      ]
     },
     "execution_count": 12,
     "metadata": {},
     "output_type": "execute_result"
    }
   ],
   "source": [
    "x_shaped_test.shape"
   ]
  },
  {
   "cell_type": "code",
   "execution_count": 13,
   "metadata": {
    "colab": {
     "base_uri": "https://localhost:8080/",
     "height": 34
    },
    "colab_type": "code",
    "id": "x_qDlUwjbkUR",
    "outputId": "2280502f-d406-412f-fe11-88f3655a7ab2"
   },
   "outputs": [
    {
     "data": {
      "text/plain": [
       "(1632, 1)"
      ]
     },
     "execution_count": 13,
     "metadata": {},
     "output_type": "execute_result"
    }
   ],
   "source": [
    "y_shaped_train = np.array(y_shaped_train)\n",
    "y_shaped_train.shape"
   ]
  },
  {
   "cell_type": "code",
   "execution_count": 14,
   "metadata": {
    "colab": {
     "base_uri": "https://localhost:8080/",
     "height": 34
    },
    "colab_type": "code",
    "id": "gH8tR58PbkzU",
    "outputId": "d116c724-009c-40bf-d4eb-d9f367824a4d"
   },
   "outputs": [
    {
     "data": {
      "text/plain": [
       "(480, 1)"
      ]
     },
     "execution_count": 14,
     "metadata": {},
     "output_type": "execute_result"
    }
   ],
   "source": [
    "y_shaped_test = np.array(y_shaped_test)\n",
    "y_shaped_test.shape"
   ]
  },
  {
   "cell_type": "code",
   "execution_count": 15,
   "metadata": {
    "colab": {
     "base_uri": "https://localhost:8080/",
     "height": 1000
    },
    "colab_type": "code",
    "id": "qkTiYZ70bTZB",
    "outputId": "30e9171d-e5c4-42b0-88d1-e5796275b851"
   },
   "outputs": [
    {
     "name": "stdout",
     "output_type": "stream",
     "text": [
      "Epoch 1/50\n",
      "164/164 [==============================] - 23s 142ms/step - loss: 2.2345 - accuracy: 0.5025 - val_loss: 0.7234 - val_accuracy: 0.5000\n",
      "Epoch 2/50\n",
      "164/164 [==============================] - 24s 146ms/step - loss: 1.5489 - accuracy: 0.5104 - val_loss: 0.6954 - val_accuracy: 0.5958\n",
      "Epoch 3/50\n",
      "164/164 [==============================] - 23s 141ms/step - loss: 1.5750 - accuracy: 0.4908 - val_loss: 0.6971 - val_accuracy: 0.5000\n",
      "Epoch 4/50\n",
      "164/164 [==============================] - 23s 141ms/step - loss: 1.2593 - accuracy: 0.5049 - val_loss: 0.6955 - val_accuracy: 0.4875\n",
      "Epoch 5/50\n",
      "164/164 [==============================] - 23s 143ms/step - loss: 1.2686 - accuracy: 0.5000 - val_loss: 0.6928 - val_accuracy: 0.4292\n",
      "Epoch 6/50\n",
      "164/164 [==============================] - 24s 145ms/step - loss: 1.2427 - accuracy: 0.4933 - val_loss: 0.6938 - val_accuracy: 0.6000\n",
      "Epoch 7/50\n",
      "164/164 [==============================] - 23s 143ms/step - loss: 1.1565 - accuracy: 0.5018 - val_loss: 0.6974 - val_accuracy: 0.4833\n",
      "Epoch 8/50\n",
      "164/164 [==============================] - 23s 142ms/step - loss: 1.2672 - accuracy: 0.4994 - val_loss: 0.6938 - val_accuracy: 0.5667\n",
      "Epoch 9/50\n",
      "164/164 [==============================] - 22s 135ms/step - loss: 1.1815 - accuracy: 0.5086 - val_loss: 0.6933 - val_accuracy: 0.6208\n",
      "Epoch 10/50\n",
      "164/164 [==============================] - 26s 157ms/step - loss: 1.1793 - accuracy: 0.5080 - val_loss: 0.7474 - val_accuracy: 0.5500\n",
      "Epoch 11/50\n",
      "164/164 [==============================] - 23s 143ms/step - loss: 1.2533 - accuracy: 0.5153 - val_loss: 0.7071 - val_accuracy: 0.6000\n",
      "Epoch 12/50\n",
      "164/164 [==============================] - 22s 136ms/step - loss: 1.0931 - accuracy: 0.5380 - val_loss: 0.7219 - val_accuracy: 0.4583\n",
      "Epoch 13/50\n",
      "164/164 [==============================] - 14s 87ms/step - loss: 1.0882 - accuracy: 0.5129 - val_loss: 0.7162 - val_accuracy: 0.5958\n",
      "Epoch 14/50\n",
      "164/164 [==============================] - 15s 90ms/step - loss: 1.3365 - accuracy: 0.5172 - val_loss: 0.6898 - val_accuracy: 0.6375\n",
      "Epoch 15/50\n",
      "164/164 [==============================] - 15s 89ms/step - loss: 1.0397 - accuracy: 0.5386 - val_loss: 0.6933 - val_accuracy: 0.5375\n",
      "Epoch 16/50\n",
      "164/164 [==============================] - 14s 88ms/step - loss: 1.1583 - accuracy: 0.5245 - val_loss: 0.6900 - val_accuracy: 0.6458\n",
      "Epoch 17/50\n",
      "164/164 [==============================] - 15s 90ms/step - loss: 1.0805 - accuracy: 0.5429 - val_loss: 0.7010 - val_accuracy: 0.6250\n",
      "Epoch 18/50\n",
      "164/164 [==============================] - 13s 78ms/step - loss: 1.0711 - accuracy: 0.5325 - val_loss: 0.6821 - val_accuracy: 0.6500\n",
      "Epoch 19/50\n",
      "164/164 [==============================] - 14s 87ms/step - loss: 1.0067 - accuracy: 0.5380 - val_loss: 0.6998 - val_accuracy: 0.6500\n",
      "Epoch 20/50\n",
      "164/164 [==============================] - 15s 91ms/step - loss: 0.9820 - accuracy: 0.5656 - val_loss: 0.6970 - val_accuracy: 0.6333\n",
      "Epoch 21/50\n",
      "164/164 [==============================] - 13s 77ms/step - loss: 0.9996 - accuracy: 0.5711 - val_loss: 0.6987 - val_accuracy: 0.6375\n",
      "Epoch 22/50\n",
      "164/164 [==============================] - 11s 69ms/step - loss: 1.1146 - accuracy: 0.5355 - val_loss: 0.6924 - val_accuracy: 0.4958\n",
      "Epoch 23/50\n",
      "164/164 [==============================] - 12s 71ms/step - loss: 1.0567 - accuracy: 0.5374 - val_loss: 0.6908 - val_accuracy: 0.4708\n",
      "Epoch 24/50\n",
      "164/164 [==============================] - 13s 77ms/step - loss: 0.9700 - accuracy: 0.5417 - val_loss: 0.6801 - val_accuracy: 0.6333\n",
      "Epoch 25/50\n",
      "164/164 [==============================] - 16s 95ms/step - loss: 0.9886 - accuracy: 0.5404 - val_loss: 0.7038 - val_accuracy: 0.6250\n",
      "Epoch 26/50\n",
      "164/164 [==============================] - 14s 85ms/step - loss: 0.9910 - accuracy: 0.5368 - val_loss: 0.6814 - val_accuracy: 0.6417\n",
      "Epoch 27/50\n",
      "164/164 [==============================] - 12s 76ms/step - loss: 0.9352 - accuracy: 0.5288 - val_loss: 0.6821 - val_accuracy: 0.6458\n",
      "Epoch 28/50\n",
      "164/164 [==============================] - 12s 75ms/step - loss: 1.0497 - accuracy: 0.5398 - val_loss: 0.7259 - val_accuracy: 0.4833\n",
      "Epoch 29/50\n",
      "164/164 [==============================] - 14s 88ms/step - loss: 1.0706 - accuracy: 0.5178 - val_loss: 0.6831 - val_accuracy: 0.5208\n",
      "Epoch 30/50\n",
      "164/164 [==============================] - 16s 99ms/step - loss: 1.0034 - accuracy: 0.5184 - val_loss: 0.6921 - val_accuracy: 0.4583\n",
      "Epoch 31/50\n",
      "164/164 [==============================] - 15s 94ms/step - loss: 0.9696 - accuracy: 0.5018 - val_loss: 0.6773 - val_accuracy: 0.4917\n",
      "Epoch 32/50\n",
      "164/164 [==============================] - 13s 82ms/step - loss: 0.9419 - accuracy: 0.5368 - val_loss: 0.6696 - val_accuracy: 0.6375\n",
      "Epoch 33/50\n",
      "164/164 [==============================] - 15s 92ms/step - loss: 0.8628 - accuracy: 0.5472 - val_loss: 0.6689 - val_accuracy: 0.6500\n",
      "Epoch 34/50\n",
      "164/164 [==============================] - 13s 82ms/step - loss: 0.8475 - accuracy: 0.5619 - val_loss: 0.6720 - val_accuracy: 0.6167\n",
      "Epoch 35/50\n",
      "164/164 [==============================] - 13s 80ms/step - loss: 0.8902 - accuracy: 0.5496 - val_loss: 0.6764 - val_accuracy: 0.5958\n",
      "Epoch 36/50\n",
      "164/164 [==============================] - 12s 71ms/step - loss: 0.9584 - accuracy: 0.5325 - val_loss: 0.6786 - val_accuracy: 0.6333\n",
      "Epoch 37/50\n",
      "164/164 [==============================] - 13s 78ms/step - loss: 1.0359 - accuracy: 0.5098 - val_loss: 0.6860 - val_accuracy: 0.4917\n",
      "Epoch 38/50\n",
      "164/164 [==============================] - 15s 91ms/step - loss: 0.9362 - accuracy: 0.5257 - val_loss: 0.6817 - val_accuracy: 0.4542\n",
      "Epoch 39/50\n",
      "164/164 [==============================] - 14s 85ms/step - loss: 0.9765 - accuracy: 0.5306 - val_loss: 0.6849 - val_accuracy: 0.5042\n",
      "Epoch 40/50\n",
      "164/164 [==============================] - 12s 74ms/step - loss: 0.9267 - accuracy: 0.5306 - val_loss: 0.6830 - val_accuracy: 0.4500\n",
      "Epoch 41/50\n",
      "164/164 [==============================] - 13s 77ms/step - loss: 0.9311 - accuracy: 0.5159 - val_loss: 0.6748 - val_accuracy: 0.5000\n",
      "Epoch 42/50\n",
      "164/164 [==============================] - 14s 83ms/step - loss: 0.8768 - accuracy: 0.5239 - val_loss: 0.6771 - val_accuracy: 0.6042\n",
      "Epoch 43/50\n",
      "164/164 [==============================] - 14s 86ms/step - loss: 0.9601 - accuracy: 0.5141 - val_loss: 0.6713 - val_accuracy: 0.6292\n",
      "Epoch 44/50\n",
      "164/164 [==============================] - 13s 77ms/step - loss: 0.9110 - accuracy: 0.5496 - val_loss: 0.6701 - val_accuracy: 0.6250\n",
      "Epoch 45/50\n",
      "164/164 [==============================] - 12s 70ms/step - loss: 0.8710 - accuracy: 0.5484 - val_loss: 0.6687 - val_accuracy: 0.6500\n",
      "Epoch 46/50\n",
      "164/164 [==============================] - 12s 75ms/step - loss: 0.8833 - accuracy: 0.5337 - val_loss: 0.6631 - val_accuracy: 0.6375\n",
      "Epoch 47/50\n",
      "164/164 [==============================] - 14s 84ms/step - loss: 0.8583 - accuracy: 0.5539 - val_loss: 0.6642 - val_accuracy: 0.6500\n",
      "Epoch 48/50\n",
      "164/164 [==============================] - 12s 72ms/step - loss: 0.8111 - accuracy: 0.5662 - val_loss: 0.6646 - val_accuracy: 0.6500\n",
      "Epoch 49/50\n",
      "164/164 [==============================] - 12s 71ms/step - loss: 0.9176 - accuracy: 0.5502 - val_loss: 0.6751 - val_accuracy: 0.6292\n",
      "Epoch 50/50\n",
      "164/164 [==============================] - 11s 65ms/step - loss: 0.9685 - accuracy: 0.5159 - val_loss: 0.7039 - val_accuracy: 0.4833\n",
      "WARNING:tensorflow:From <ipython-input-15-4d04136b9140>:32: Sequential.predict_classes (from tensorflow.python.keras.engine.sequential) is deprecated and will be removed after 2021-01-01.\n",
      "Instructions for updating:\n",
      "Please use instead:* `np.argmax(model.predict(x), axis=-1)`,   if your model does multi-class classification   (e.g. if it uses a `softmax` last-layer activation).* `(model.predict(x) > 0.5).astype(\"int32\")`,   if your model does binary classification   (e.g. if it uses a `sigmoid` last-layer activation).\n"
     ]
    },
    {
     "data": {
      "text/plain": [
       "array([[1],\n",
       "       [0],\n",
       "       [0],\n",
       "       [1],\n",
       "       [1],\n",
       "       [1],\n",
       "       [1],\n",
       "       [1],\n",
       "       [1],\n",
       "       [1],\n",
       "       [1],\n",
       "       [1],\n",
       "       [1],\n",
       "       [1],\n",
       "       [1],\n",
       "       [1],\n",
       "       [1],\n",
       "       [1],\n",
       "       [1],\n",
       "       [1],\n",
       "       [1],\n",
       "       [1],\n",
       "       [1],\n",
       "       [1],\n",
       "       [1],\n",
       "       [1],\n",
       "       [1],\n",
       "       [1],\n",
       "       [1],\n",
       "       [1],\n",
       "       [1],\n",
       "       [1],\n",
       "       [1],\n",
       "       [1],\n",
       "       [1],\n",
       "       [1],\n",
       "       [1],\n",
       "       [1],\n",
       "       [1],\n",
       "       [1],\n",
       "       [1],\n",
       "       [1],\n",
       "       [1],\n",
       "       [1],\n",
       "       [1],\n",
       "       [1],\n",
       "       [1],\n",
       "       [1],\n",
       "       [0],\n",
       "       [0],\n",
       "       [1],\n",
       "       [0],\n",
       "       [0],\n",
       "       [1],\n",
       "       [1],\n",
       "       [1],\n",
       "       [1],\n",
       "       [1],\n",
       "       [1],\n",
       "       [1],\n",
       "       [0],\n",
       "       [0],\n",
       "       [1],\n",
       "       [1],\n",
       "       [1],\n",
       "       [1],\n",
       "       [1],\n",
       "       [1],\n",
       "       [1],\n",
       "       [1],\n",
       "       [1],\n",
       "       [1],\n",
       "       [1],\n",
       "       [1],\n",
       "       [1],\n",
       "       [1],\n",
       "       [1],\n",
       "       [1],\n",
       "       [1],\n",
       "       [1],\n",
       "       [1],\n",
       "       [1],\n",
       "       [1],\n",
       "       [1],\n",
       "       [1],\n",
       "       [1],\n",
       "       [1],\n",
       "       [1],\n",
       "       [1],\n",
       "       [1],\n",
       "       [1],\n",
       "       [1],\n",
       "       [1],\n",
       "       [1],\n",
       "       [1],\n",
       "       [1],\n",
       "       [1],\n",
       "       [1],\n",
       "       [1],\n",
       "       [1],\n",
       "       [1],\n",
       "       [1],\n",
       "       [1],\n",
       "       [1],\n",
       "       [1],\n",
       "       [1],\n",
       "       [1],\n",
       "       [1],\n",
       "       [1],\n",
       "       [1],\n",
       "       [1],\n",
       "       [1],\n",
       "       [1],\n",
       "       [1],\n",
       "       [1],\n",
       "       [1],\n",
       "       [1],\n",
       "       [1],\n",
       "       [1],\n",
       "       [1],\n",
       "       [1],\n",
       "       [1],\n",
       "       [1],\n",
       "       [1],\n",
       "       [1],\n",
       "       [1],\n",
       "       [1],\n",
       "       [1],\n",
       "       [1],\n",
       "       [1],\n",
       "       [1],\n",
       "       [1],\n",
       "       [1],\n",
       "       [1],\n",
       "       [1],\n",
       "       [1],\n",
       "       [1],\n",
       "       [1],\n",
       "       [1],\n",
       "       [1],\n",
       "       [1],\n",
       "       [1],\n",
       "       [1],\n",
       "       [1],\n",
       "       [1],\n",
       "       [1],\n",
       "       [1],\n",
       "       [1],\n",
       "       [1],\n",
       "       [1],\n",
       "       [1],\n",
       "       [1],\n",
       "       [1],\n",
       "       [1],\n",
       "       [1],\n",
       "       [1],\n",
       "       [1],\n",
       "       [1],\n",
       "       [1],\n",
       "       [1],\n",
       "       [1],\n",
       "       [1],\n",
       "       [1],\n",
       "       [1],\n",
       "       [1],\n",
       "       [1],\n",
       "       [1],\n",
       "       [1],\n",
       "       [1],\n",
       "       [1],\n",
       "       [1],\n",
       "       [1],\n",
       "       [1],\n",
       "       [1],\n",
       "       [1],\n",
       "       [1],\n",
       "       [1],\n",
       "       [1],\n",
       "       [1],\n",
       "       [1],\n",
       "       [1],\n",
       "       [1],\n",
       "       [1],\n",
       "       [1],\n",
       "       [1],\n",
       "       [1],\n",
       "       [1],\n",
       "       [1],\n",
       "       [1],\n",
       "       [1],\n",
       "       [1],\n",
       "       [1],\n",
       "       [1],\n",
       "       [1],\n",
       "       [1],\n",
       "       [1],\n",
       "       [1],\n",
       "       [1],\n",
       "       [1],\n",
       "       [1],\n",
       "       [1],\n",
       "       [1],\n",
       "       [1],\n",
       "       [1],\n",
       "       [1],\n",
       "       [1],\n",
       "       [1],\n",
       "       [1],\n",
       "       [1],\n",
       "       [1],\n",
       "       [1],\n",
       "       [1],\n",
       "       [1],\n",
       "       [1],\n",
       "       [1],\n",
       "       [1],\n",
       "       [1],\n",
       "       [1],\n",
       "       [1],\n",
       "       [1],\n",
       "       [1],\n",
       "       [1],\n",
       "       [1],\n",
       "       [1],\n",
       "       [1],\n",
       "       [1],\n",
       "       [1],\n",
       "       [1],\n",
       "       [1],\n",
       "       [1],\n",
       "       [1],\n",
       "       [1],\n",
       "       [1],\n",
       "       [1],\n",
       "       [1],\n",
       "       [1],\n",
       "       [1],\n",
       "       [1],\n",
       "       [1],\n",
       "       [1],\n",
       "       [1],\n",
       "       [1],\n",
       "       [1],\n",
       "       [1],\n",
       "       [1],\n",
       "       [1],\n",
       "       [1],\n",
       "       [1],\n",
       "       [1],\n",
       "       [1],\n",
       "       [1],\n",
       "       [1],\n",
       "       [1],\n",
       "       [1],\n",
       "       [1],\n",
       "       [1],\n",
       "       [1],\n",
       "       [1],\n",
       "       [1],\n",
       "       [1],\n",
       "       [1],\n",
       "       [1],\n",
       "       [1],\n",
       "       [1],\n",
       "       [1],\n",
       "       [1],\n",
       "       [1],\n",
       "       [1],\n",
       "       [1],\n",
       "       [1],\n",
       "       [1],\n",
       "       [1],\n",
       "       [1],\n",
       "       [1],\n",
       "       [1],\n",
       "       [1],\n",
       "       [1],\n",
       "       [1],\n",
       "       [1],\n",
       "       [1],\n",
       "       [1],\n",
       "       [1],\n",
       "       [1],\n",
       "       [1],\n",
       "       [1],\n",
       "       [1],\n",
       "       [1],\n",
       "       [1],\n",
       "       [1],\n",
       "       [0],\n",
       "       [0],\n",
       "       [1],\n",
       "       [1],\n",
       "       [1],\n",
       "       [1],\n",
       "       [1],\n",
       "       [1],\n",
       "       [1],\n",
       "       [1],\n",
       "       [1],\n",
       "       [1],\n",
       "       [1],\n",
       "       [1],\n",
       "       [1],\n",
       "       [1],\n",
       "       [1],\n",
       "       [1],\n",
       "       [1],\n",
       "       [1],\n",
       "       [1],\n",
       "       [1],\n",
       "       [1],\n",
       "       [1],\n",
       "       [1],\n",
       "       [1],\n",
       "       [1],\n",
       "       [1],\n",
       "       [1],\n",
       "       [1],\n",
       "       [1],\n",
       "       [1],\n",
       "       [1],\n",
       "       [1],\n",
       "       [1],\n",
       "       [1],\n",
       "       [1],\n",
       "       [1],\n",
       "       [1],\n",
       "       [1],\n",
       "       [1],\n",
       "       [1],\n",
       "       [1],\n",
       "       [1],\n",
       "       [1],\n",
       "       [1],\n",
       "       [1],\n",
       "       [0],\n",
       "       [0],\n",
       "       [1],\n",
       "       [0],\n",
       "       [0],\n",
       "       [1],\n",
       "       [1],\n",
       "       [1],\n",
       "       [1],\n",
       "       [1],\n",
       "       [1],\n",
       "       [1],\n",
       "       [0],\n",
       "       [0],\n",
       "       [1],\n",
       "       [1],\n",
       "       [1],\n",
       "       [1],\n",
       "       [1],\n",
       "       [1],\n",
       "       [1],\n",
       "       [1],\n",
       "       [1],\n",
       "       [1],\n",
       "       [1],\n",
       "       [1],\n",
       "       [1],\n",
       "       [1],\n",
       "       [1],\n",
       "       [1],\n",
       "       [1],\n",
       "       [1],\n",
       "       [1],\n",
       "       [1],\n",
       "       [1],\n",
       "       [1],\n",
       "       [1],\n",
       "       [1],\n",
       "       [1],\n",
       "       [1],\n",
       "       [1],\n",
       "       [1],\n",
       "       [1],\n",
       "       [1],\n",
       "       [1],\n",
       "       [1],\n",
       "       [1],\n",
       "       [1],\n",
       "       [1],\n",
       "       [0],\n",
       "       [0],\n",
       "       [1],\n",
       "       [1],\n",
       "       [1],\n",
       "       [1],\n",
       "       [1],\n",
       "       [1],\n",
       "       [1],\n",
       "       [1],\n",
       "       [1],\n",
       "       [1],\n",
       "       [1],\n",
       "       [1],\n",
       "       [1],\n",
       "       [1],\n",
       "       [1],\n",
       "       [1],\n",
       "       [1],\n",
       "       [1],\n",
       "       [1],\n",
       "       [1],\n",
       "       [1],\n",
       "       [1],\n",
       "       [1],\n",
       "       [1],\n",
       "       [1],\n",
       "       [1],\n",
       "       [1],\n",
       "       [1],\n",
       "       [1],\n",
       "       [1],\n",
       "       [1],\n",
       "       [1],\n",
       "       [1],\n",
       "       [1],\n",
       "       [1],\n",
       "       [1],\n",
       "       [1],\n",
       "       [1],\n",
       "       [1],\n",
       "       [1],\n",
       "       [1],\n",
       "       [1],\n",
       "       [1],\n",
       "       [1],\n",
       "       [1],\n",
       "       [1],\n",
       "       [0],\n",
       "       [0],\n",
       "       [1],\n",
       "       [1],\n",
       "       [1],\n",
       "       [1],\n",
       "       [1],\n",
       "       [1],\n",
       "       [1],\n",
       "       [1],\n",
       "       [1],\n",
       "       [1],\n",
       "       [1],\n",
       "       [1],\n",
       "       [1],\n",
       "       [1],\n",
       "       [1],\n",
       "       [1],\n",
       "       [1],\n",
       "       [1],\n",
       "       [1],\n",
       "       [1],\n",
       "       [1],\n",
       "       [1],\n",
       "       [1],\n",
       "       [1],\n",
       "       [1],\n",
       "       [1],\n",
       "       [1],\n",
       "       [1],\n",
       "       [1],\n",
       "       [1],\n",
       "       [1],\n",
       "       [1],\n",
       "       [1],\n",
       "       [1],\n",
       "       [1],\n",
       "       [1],\n",
       "       [1],\n",
       "       [1],\n",
       "       [1],\n",
       "       [1],\n",
       "       [1],\n",
       "       [1],\n",
       "       [1],\n",
       "       [1],\n",
       "       [1]], dtype=int32)"
      ]
     },
     "execution_count": 15,
     "metadata": {},
     "output_type": "execute_result"
    }
   ],
   "source": [
    "import numpy as np\n",
    "from keras.utils import to_categorical\n",
    "from keras.layers import Dense, Flatten, Dropout, ZeroPadding3D\n",
    "from keras.layers.recurrent import LSTM\n",
    "from keras.models import Sequential, load_model\n",
    "from keras.optimizers import Adam, RMSprop\n",
    "from keras.layers.wrappers import TimeDistributed\n",
    "from keras.layers.convolutional import (Conv2D, MaxPooling3D, Conv3D,\n",
    "    MaxPooling2D)\n",
    "from collections import deque\n",
    "import sys\n",
    "\n",
    "metrics = ['accuracy']\n",
    "model = Sequential()\n",
    "model.add(Dense(1024, activation='sigmoid'))\n",
    "model.add(LSTM(512, return_sequences=True,\n",
    "                       input_shape=(5, 4,),\n",
    "                       dropout=0.5))\n",
    "\n",
    "model.add(Flatten())\n",
    "# Dense is fully connected layer. 16 hidden units\n",
    "# activation for lstm is basically sigmoid or tanh\n",
    "model.add(Dense(216, activation='sigmoid')) #FC1\n",
    "model.add(Dense(32, activation='tanh')) #FC2\n",
    "model.add(Dropout(0.5))\n",
    "model.add(Dense(16, activation='relu'))#FC3\n",
    "model.add(Dropout(0.5))\n",
    "model.add(Dense(1, activation='tanh'))#Output Layer\n",
    "optimizer = Adam(lr=0.00005)\n",
    "model.compile(loss='binary_crossentropy', optimizer=optimizer, metrics=metrics)\n",
    "model.fit(x_shaped_train, y_shaped_train, validation_data = (x_shaped_test,y_shaped_test), epochs=50, batch_size=  10)\n",
    "model.predict_classes(x_shaped_test)"
   ]
  },
  {
   "cell_type": "code",
   "execution_count": 16,
   "metadata": {
    "colab": {
     "base_uri": "https://localhost:8080/",
     "height": 68
    },
    "colab_type": "code",
    "id": "ndI5J_0Eg9Bi",
    "outputId": "c2e1992f-0ac6-4279-e8dd-8d6dc5b5d945"
   },
   "outputs": [
    {
     "name": "stdout",
     "output_type": "stream",
     "text": [
      "WARNING:tensorflow:From <ipython-input-16-3fd9228cdc28>:7: Sequential.predict_proba (from tensorflow.python.keras.engine.sequential) is deprecated and will be removed after 2021-01-01.\n",
      "Instructions for updating:\n",
      "Please use `model.predict()` instead.\n",
      "[0.48333333333333334, 0.6457142857142857, 0.5633420138888889]\n",
      "[[  6 234]\n",
      " [ 14 226]]\n"
     ]
    }
   ],
   "source": [
    "from sklearn.metrics import confusion_matrix\n",
    "from sklearn.metrics import roc_curve, roc_auc_score, f1_score\n",
    "from sklearn.metrics import accuracy_score\n",
    "from sklearn import metrics\n",
    "\n",
    "pred_rnn = model.predict_classes(x_shaped_test)\n",
    "y_score_10 = model.predict_proba(x_shaped_test)\n",
    "acc10 = accuracy_score(y_shaped_test, pred_rnn)\n",
    "f1_score_10 = metrics.f1_score(y_shaped_test, np.array(pred_rnn))\n",
    "roc_10 = metrics.roc_auc_score(y_shaped_test, y_score_10)\n",
    "print([acc10, f1_score_10, roc_10])\n",
    "print(confusion_matrix(y_shaped_test, pred_rnn))"
   ]
  },
  {
   "cell_type": "code",
   "execution_count": 19,
   "metadata": {
    "colab": {
     "base_uri": "https://localhost:8080/",
     "height": 530
    },
    "colab_type": "code",
    "id": "XbLVuy9ljvPH",
    "outputId": "44a8d357-e5c2-47a2-a2e1-3ed4edb97869"
   },
   "outputs": [
    {
     "data": {
      "text/plain": [
       "<matplotlib.legend.Legend at 0x7fc201f0a8d0>"
      ]
     },
     "execution_count": 19,
     "metadata": {},
     "output_type": "execute_result"
    },
    {
     "data": {
      "image/png": "[encoded data removed]",
      "text/plain": [
       "<Figure size 576x576 with 1 Axes>"
      ]
     },
     "metadata": {
      "needs_background": "light"
     },
     "output_type": "display_data"
    }
   ],
   "source": [
    "import matplotlib.pyplot as plt\n",
    "plt.figure(figsize=(8,8))\n",
    "plt.plot([0, 1], [0, 1],'r--')\n",
    "fpr, tpr, thresholds = roc_curve(y_shaped_test, y_score_10)\n",
    "plt.plot(fpr, tpr, label= 'ROC curve (area = %0.2f)' % roc_10)\n",
    "plt.title('ROC Curve for LSTM')\n",
    "plt.xlabel('False Positive Rate')\n",
    "plt.ylabel('True Positive Rate')\n",
    "plt.legend()"
   ]
  },
  {
   "cell_type": "code",
   "execution_count": 20,
   "metadata": {
    "colab": {
     "base_uri": "https://localhost:8080/",
     "height": 500
    },
    "colab_type": "code",
    "id": "FkwvvzcBj989",
    "outputId": "49a67759-ba65-40e2-e07b-c1992e9a43d7"
   },
   "outputs": [
    {
     "data": {
      "text/plain": [
       "[<matplotlib.lines.Line2D at 0x7fc201e2b1d0>]"
      ]
     },
     "execution_count": 20,
     "metadata": {},
     "output_type": "execute_result"
    },
    {
     "data": {
      "image/png": "[encoded data removed]",
      "text/plain": [
       "<Figure size 576x576 with 1 Axes>"
      ]
     },
     "metadata": {
      "needs_background": "light"
     },
     "output_type": "display_data"
    }
   ],
   "source": [
    "from sklearn.calibration import calibration_curve\n",
    "plt.figure(figsize=(8,8))\n",
    "plt.plot([0, 1], [0, 1], \"k:\", label=\"Perfectly calibrated\")\n",
    "fraction_of_positives, mean_predicted_value=calibration_curve(y_shaped_test,y_score_10,n_bins=10)\n",
    "plt.plot(mean_predicted_value, fraction_of_positives,\"s-\",\n",
    "                 label=\"%s\" % 'LSTM')"
   ]
  }
 ],
 "metadata": {
  "accelerator": "GPU",
  "colab": {
   "collapsed_sections": [],
   "name": "LSTM.ipynb",
   "provenance": []
  },
  "kernelspec": {
   "display_name": "Python 3",
   "language": "python",
   "name": "python3"
  },
  "language_info": {
   "codemirror_mode": {
    "name": "ipython",
    "version": 3
   },
   "file_extension": ".py",
   "mimetype": "text/x-python",
   "name": "python",
   "nbconvert_exporter": "python",
   "pygments_lexer": "ipython3",
   "version": "3.7.4"
  }
 },
 "nbformat": 4,
 "nbformat_minor": 1
}
